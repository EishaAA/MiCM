{
  "nbformat": 4,
  "nbformat_minor": 0,
  "metadata": {
    "colab": {
      "name": "2_Python_Exceptions.ipynb",
      "provenance": [],
      "collapsed_sections": [],
      "toc_visible": true
    },
    "kernelspec": {
      "name": "python3",
      "display_name": "Python 3"
    }
  },
  "cells": [
    {
      "cell_type": "markdown",
      "metadata": {
        "id": "CtsaI_IhSLEn"
      },
      "source": [
        "# Part 3: Exception Handling\n",
        "\n",
        "**By the end of this section, you will:**\n",
        "\n",
        "1.   *Understand how to use Try-except blocks in Python, and recognize common exception types*\n",
        "2.   *Understand how to raise exceptions*\n",
        "3.   *Understand how to create custom exception types*\n",
        "\n",
        "\n",
        "Exception handling in Python is done by using try-except blocks, or by raising custom exceptions.\n",
        "\n",
        "If we can anticipate possible errors/exceptions that could occur in our program, we can handle them properly without displaying the full default error message to the user, and it allows our programs to fail gracefully."
      ]
    },
    {
      "cell_type": "markdown",
      "metadata": {
        "id": "mVkxnVr67a21"
      },
      "source": [
        "---\n",
        "## Background\n",
        "\n",
        "**Exception Handling** is the process of dealing with an unexpected event (error) when your program is running.\n",
        "\n",
        "Programs *throw* exceptions, which are *caught* by the handler.\n",
        "\n",
        "Our objective is to gracefully handle errors to prevent unexpected behaviour by telling our programs what to do if an error is encountered during execution.\n",
        "\n",
        "**What kind of errors would you expect from the following examples?**"
      ]
    },
    {
      "cell_type": "code",
      "metadata": {
        "id": "HVblM9nh71_S"
      },
      "source": [
        "import math\n",
        "\n",
        "x = -1\n",
        "math.log10(x)"
      ],
      "execution_count": null,
      "outputs": []
    },
    {
      "cell_type": "code",
      "metadata": {
        "id": "MfOUqf-O76Gh"
      },
      "source": [
        "myVar = \"hello\"\n",
        "myVar ** 2"
      ],
      "execution_count": null,
      "outputs": []
    },
    {
      "cell_type": "markdown",
      "metadata": {
        "id": "rxbIZfzxSYLF"
      },
      "source": [
        "---\n",
        "\n",
        "## Try-Except Blocks\n",
        "\n",
        "Try-Except blocks have 4 possible parts: `try`, `except`, `else`, and `finally`. Multiple `Except` blocks can be used to catch different types of exceptions and provide custom error messages. We want to be as specific as possible, putting more specific exceptions first, and the more general ones at the bottom.\n",
        "\n",
        "Here's an example of the full structure:"
      ]
    },
    {
      "cell_type": "code",
      "metadata": {
        "colab": {
          "base_uri": "https://localhost:8080/"
        },
        "id": "vDWa74R28OH5",
        "outputId": "3067a0cb-f432-4c57-955b-6af6632f6fa7"
      },
      "source": [
        "try:\n",
        "    print(\"Try block: Run me first\")\n",
        "except:\n",
        "    print(\"Except block: Something went wrong\")\n",
        "else:\n",
        "    print(\"Else block: All went well, so do this\")\n",
        "finally:\n",
        "    print(\"Finally block: Run me always\")"
      ],
      "execution_count": null,
      "outputs": [
        {
          "output_type": "stream",
          "text": [
            "Try block: Run me first\n",
            "Else block: All went well, so do this\n",
            "Finally block: Run me always\n"
          ],
          "name": "stdout"
        }
      ]
    },
    {
      "cell_type": "markdown",
      "metadata": {
        "id": "A9nFSMTV8LGB"
      },
      "source": [
        "The above example catches all exceptions in the `except` block, however we can create multiple `except` blocks that catch specific types of exceptions.\n",
        "\n",
        "Here are some common exception types you may come across:\n",
        "\n",
        "**Common Input and value exceptions**\n",
        "*   `ZeroDivisionError` - raised when denominator of division operator is zero.\n",
        "*   `TypeError` - raised when an operation or function is applied to an object of inappropriate type (e.g. trying to use a string as a list index)\n",
        "*   `IndexError` - raised when a sequence subscript (e.g. list index) is out of range.\n",
        "*   `ValueError` - raised when an operation or function receives an argument that has the right type but an inappropriate value (e.g. log of a negative number)\n",
        "*   `KeyError` - Raised when a mapping (dictionary) key is not found in the set of existing keys.\n",
        "\n",
        "\n",
        "**Common File & directory handling exceptions**\n",
        "*   `FileNotFoundError` - raised when a file or directory is requested, but does not exist\n",
        "*   `FileExistsError` - raised when trying to create a file or directory that already exists\n",
        "*   `IsADirectoryError` - raised when a file operation is requested on a directory.\n",
        "*   `NotADirectoryError` - raised when a directory operation is requested on something that is not a directory.\n",
        "\n",
        "Full list of built-in exceptions in Python: https://docs.python.org/3/library/exceptions.html\n",
        "\n",
        "Let's \"try\" an example that can catch different types of exceptions:"
      ]
    },
    {
      "cell_type": "code",
      "metadata": {
        "colab": {
          "base_uri": "https://localhost:8080/"
        },
        "id": "HDpG1XHj9ezN",
        "outputId": "f067629f-f1f7-4595-ca66-9e93aa0b8b81"
      },
      "source": [
        "import math\n",
        "\n",
        "x = 4\n",
        "#x = '4'\n",
        "#x = -4\n",
        "\n",
        "try:\n",
        "    print(math.sqrt(x))\n",
        "except (ValueError, ZeroDivisionError) as e:\n",
        "    print(\"Error: Incorrect value, or division by zero.\")\n",
        "    print(e)             # print default exception message\n",
        "except Exception as e:\n",
        "    print(\"Sorry, something went wrong.\")\n",
        "    print(e) \n",
        "else:\n",
        "    print(\"Ran successfully!\")\n",
        "finally:\n",
        "    print(\"Program complete.\")"
      ],
      "execution_count": null,
      "outputs": [
        {
          "output_type": "stream",
          "text": [
            "2.0\n",
            "Ran successfully!\n",
            "Program complete.\n"
          ],
          "name": "stdout"
        }
      ]
    },
    {
      "cell_type": "markdown",
      "metadata": {
        "id": "wJ9Q3sQbShPu"
      },
      "source": [
        "Let's look at another example, where we want to print the reciprocal of each element in a list."
      ]
    },
    {
      "cell_type": "code",
      "metadata": {
        "id": "7zfN45wCSiHu",
        "colab": {
          "base_uri": "https://localhost:8080/"
        },
        "outputId": "254fa116-3c0e-4f56-f285-2d6b4ad7f94d"
      },
      "source": [
        "someList = ['b', 0, 2]\n",
        "\n",
        "for element in someList:\n",
        "    try:\n",
        "        print(\"The entry is \", element)\n",
        "        r = 1/int(element)\n",
        "    except ZeroDivisionError as myException:\n",
        "        print(\"You can't divide by zero.\")\n",
        "        print(myException)\n",
        "    except Exception:\n",
        "        print(\"Something went wrong!\")\n",
        "    else:\n",
        "        print(\"The reciprocal of \", element, \"is \", r)\n",
        "    finally:\n",
        "        print(\"Next entry.\")"
      ],
      "execution_count": null,
      "outputs": [
        {
          "output_type": "stream",
          "text": [
            "The entry is  b\n",
            "Something went wrong!\n",
            "Next entry.\n",
            "The entry is  0\n",
            "You can't divide by zero.\n",
            "division by zero\n",
            "Next entry.\n",
            "The entry is  2\n",
            "The reciprocal of  2 is  0.5\n",
            "Next entry.\n"
          ],
          "name": "stdout"
        }
      ]
    },
    {
      "cell_type": "markdown",
      "metadata": {
        "id": "GcTEaaXs-ecL"
      },
      "source": [
        "---\n",
        "\n",
        "## Raising Exceptions\n",
        "\n",
        "Instead of waiting for our program to throw an exception, we also have the option of raising our own exception whenever we want (generally after performing our own validation and/or checks).\n",
        "\n",
        "We can do this using the `raise` statement, which creates an `Exception` object then terminates the program.\n",
        "\n",
        "Throwing an exception is as simple as calling `raise Exception()` method, where any custom message is passed as an argument."
      ]
    },
    {
      "cell_type": "code",
      "metadata": {
        "id": "7ywOM59R_LN-"
      },
      "source": [
        "raise Exception(\"Help me!\")"
      ],
      "execution_count": null,
      "outputs": []
    },
    {
      "cell_type": "markdown",
      "metadata": {
        "id": "g5AtyUh-CEF0"
      },
      "source": [
        "We can also raise specific exception types; e.g. `raise ValueError()`:"
      ]
    },
    {
      "cell_type": "code",
      "metadata": {
        "id": "u6U07SQFSmkG"
      },
      "source": [
        "x = -1\n",
        "if x <= 0:\n",
        "    raise ValueError(\"x is less than 0\")\n",
        "else:\n",
        "    print(x)"
      ],
      "execution_count": null,
      "outputs": []
    },
    {
      "cell_type": "markdown",
      "metadata": {
        "id": "2-hMZFjN_V3t"
      },
      "source": [
        "If we raise our own exceptions in a try-except block, we can catch the exception and have our program fail more gracefully:"
      ]
    },
    {
      "cell_type": "code",
      "metadata": {
        "id": "VvoXE8nJ_Vfx"
      },
      "source": [
        "import math\n",
        "\n",
        "x = 4\n",
        "#x = -4\n",
        "\n",
        "try:\n",
        "    if x < 0:\n",
        "        raise Exception(\"Value is too small.\")\n",
        "    print(math.sqrt(x))\n",
        "except (ValueError, ZeroDivisionError) as e:\n",
        "    print(\"Error: Incorrect value, or division by zero.\")\n",
        "    print(e)\n",
        "except Exception as e:\n",
        "    print(\"Sorry, something went wrong.\")\n",
        "    print(e)\n",
        "finally:\n",
        "    print(\"Program complete.\")"
      ],
      "execution_count": null,
      "outputs": []
    },
    {
      "cell_type": "markdown",
      "metadata": {
        "id": "gbhmFextCy_u"
      },
      "source": [
        "We can also create exceptions, save them to a variable, then raise them later after we have done more work in our program! This can be particularly useful if we are iterating through a loop and want to continue running the script when some steps fail."
      ]
    },
    {
      "cell_type": "code",
      "metadata": {
        "id": "XsnYipN5Szik"
      },
      "source": [
        "myException = ValueError(\"You value is terrible.\")\n",
        "print(\"Do some work\")\n",
        "raise myException"
      ],
      "execution_count": null,
      "outputs": []
    },
    {
      "cell_type": "markdown",
      "metadata": {
        "id": "bIUOyIP6SpAG"
      },
      "source": [
        "---\n",
        "\n",
        "## Creating and raising custom exceptions\n",
        "\n",
        "In addition to the many built-in types of exceptions, we can also create your own custom exception types.\n",
        "\n",
        "\n",
        "Recall that exceptions are *objects*, which are instances if the built-in class `Exception` in Python. Like other classes, we can inherit from this class (or other, more specific exception classes) to define a custom exception type."
      ]
    },
    {
      "cell_type": "code",
      "metadata": {
        "id": "bJaZpziKDoyb"
      },
      "source": [
        "class SomeException(Exception):\n",
        "    pass\n",
        "\n",
        "class AnotherException(Exception):\n",
        "    pass\n",
        "\n",
        "# do some work\n",
        "raise SomeException(\"Something went terribly wrong!\")"
      ],
      "execution_count": null,
      "outputs": []
    },
    {
      "cell_type": "markdown",
      "metadata": {
        "id": "1hb10H5rDvEx"
      },
      "source": [
        "These custom exceptions can be caught in try-except blocks, just like built-in ones:"
      ]
    },
    {
      "cell_type": "code",
      "metadata": {
        "id": "9Nt5mHeNSwDf"
      },
      "source": [
        "class TooLargeError(Exception):\n",
        "    pass\n",
        "\n",
        "class TooSmallError(Exception):\n",
        "    pass\n",
        "\n",
        "try:\n",
        "    x = 5\n",
        "    #x = -5\n",
        "    #x = 15\n",
        "    if x > 10:\n",
        "        raise TooLargeError(\"X is too big\")\n",
        "    if x < 0:\n",
        "        raise TooSmallError(\"X is too small\")\n",
        "except TooLargeError:\n",
        "    print(\"Caught TooLargeError\")\n",
        "    raise\n",
        "except TooSmallError:\n",
        "    print(\"Caught TooSmallError\")\n",
        "    raise\n",
        "except Exception:\n",
        "    raise\n",
        "else:\n",
        "    print(\"Value of x is \" + str(x))\n",
        "finally:\n",
        "    print(\"And we're done.\")"
      ],
      "execution_count": null,
      "outputs": []
    },
    {
      "cell_type": "markdown",
      "metadata": {
        "id": "q2D6USznEd0T"
      },
      "source": [
        "We can improve our custom exception child class by adding custom messages, defining the formatting of error messages etc. Here's an example:"
      ]
    },
    {
      "cell_type": "code",
      "metadata": {
        "id": "5EYdHzrsSsQa"
      },
      "source": [
        "class CustomException(Exception):\n",
        "    def __init__(self, msg=None):\n",
        "        #print(\"Instantiating new custom exception.\")\n",
        "        if not msg:\n",
        "            msg = \"Default message.\"\n",
        "        self.message = msg\n",
        "\n",
        "    def __str__(self):\n",
        "        return \"Custom Exception - {}\".format(self.message)\n",
        "\n",
        "print(\"Starting Script...\")\n",
        "\n",
        "#raise CustomException\n",
        "\n",
        "#try:\n",
        "#    raise CustomException\n",
        "#except CustomException as e:\n",
        "#    raise e\n",
        "\n",
        "# we can collect exceptions in an array and raise them later! --------------\n",
        "\n",
        "#errors = []\n",
        "#errors.append(CustomException(\"Example error that occured.\"))\n",
        "#errors.append(CustomException())\n",
        "#errors.append(ValueError(\"Specific value error message\"))\n",
        "\n",
        "#print(\"Doing some more work...\")\n",
        "#raise Exception(errors)\n"
      ],
      "execution_count": null,
      "outputs": []
    },
    {
      "cell_type": "markdown",
      "metadata": {
        "id": "ZdWFRkVnS3uT"
      },
      "source": [
        "---\n",
        "\n",
        "## Challenge #3\n",
        "\n",
        "Let's continue working on our `Dna` and `ORF` classes from earlier (Part 2: OOP), and validate the inputs anytime we try to set or change the DNA sequence attribute.\n",
        "\n",
        "You previously created `isValidDNA()` and `isValidORF()` class methods. Using these methods, validate the input sequence and raise a custom `InvalidSequence` exception whenever the the string is invalid.\n",
        "\n",
        "**Bonus:**\n",
        "You may add this validation to the `__init__` method for now, however it is __highly encouraged__ that you instead re-organize your classes and attribute assignment such that a custom setter function is called using the `@setter` decorator (see *Bonus Material: Private Members, Getters, and Setters* from OOP notes).\n",
        "\n",
        "This way, validation will also be performed if you try to reassign the sequence value!"
      ]
    }
  ]
}